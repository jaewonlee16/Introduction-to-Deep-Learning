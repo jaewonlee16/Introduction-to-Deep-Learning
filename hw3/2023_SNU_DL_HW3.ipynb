{
 "cells": [
  {
   "cell_type": "markdown",
   "metadata": {},
   "source": [
    "# HW3: Sentiment Analysis via Deep Neural Networks\n",
    "\n",
    "This homework consists of two parts:\n",
    "\n",
    "1. You will implement recurrent neural network (RNN), long short-term memory (LSTM), and multi-head attention from scratch, and compare the results with `torch.nn` modules.\n",
    "2. You will build a text encoder based on the implemented modules and train it on the sentiment analysis task of the movie review dataset(IMDb). Then, evaluate the training results.\n",
    "\n",
    "You may be asked to complete several functions and classes in `HW_YourAnswer_modules.py` and `HW_YourAnswer_encoders.py`."
   ]
  },
  {
   "cell_type": "code",
   "execution_count": null,
   "metadata": {},
   "outputs": [],
   "source": [
    "from google.colab import drive\n",
    "drive.mount('/content/drive')\n",
    "\n",
    "import sys\n",
    "sys.path.append('/content/drive/My Drive/Colab Notebooks/Intro_dl/hw3')\n",
    "\n",
    "import os\n",
    "os.chdir('/content/drive/My Drive/Colab Notebooks/Intro_dl/hw3')"
   ]
  },
  {
   "cell_type": "code",
   "execution_count": 1,
   "metadata": {},
   "outputs": [],
   "source": [
    "%load_ext autoreload\n",
    "%autoreload 2\n",
    "import numpy as np\n",
    "from matplotlib import pyplot as plt\n",
    "\n",
    "import torch\n",
    "import torch.nn as nn\n",
    "\n",
    "from utils import normal\n",
    "\n",
    "DEVICE = torch.device(\"cuda\") if torch.cuda.is_available() else torch.device(\"cpu\")"
   ]
  },
  {
   "cell_type": "markdown",
   "metadata": {},
   "source": [
    "# Exercise 1: DNN Models for Sequential Data\n",
    "\n",
    "In the first exercise, you will attempt to implement deep neural network models designed for processing sequential data.\n",
    "\n",
    "## 1.1. Recurrent Neural Network(RNN)\n",
    "\n",
    "First, let's implement a multi-layer RNN, and then compare it with `torch.nn.RNN`. To do this, we will proceed in two steps. \n",
    "\n",
    "1. Develop the `OneLayerRNN` module to represent a single-layer RNN.\n",
    "2. Utilize the `OneLayerRNN` module implemented in step 1 to construct the `MultiLayerRNN` module, enabling the computation of a multi-layer RNN.\n",
    "\n",
    "In this exercise, it is ***strongly*** recommended to refer to [1] for further details.\n",
    "\n",
    "[1] https://pytorch.org/docs/stable/generated/torch.nn.RNN.html"
   ]
  },
  {
   "cell_type": "markdown",
   "metadata": {},
   "source": [
    "### 1.1.1. One Layer RNN\n",
    "\n",
    "One-layer RNN aims to compute the hidden state for each token when given an input sequence. The formula for this is as follows:\n",
    "\n",
    "$$\n",
    "h_t = \\text{activation}(W_{ih}x_t+ b_{ih} + W_{hh}h_{t-1} + b_{hh})\n",
    "$$\n",
    "\n",
    "\n",
    "The operation of linear projection and adding bias here can be achieved by using the `nn.Linear` module, which was employed in the previous assignment.\n",
    "\n",
    "\n",
    "### To Do:\n",
    "- Implement `OneLayerRNN` class in `HW_YourAnswer_modules.py` file.\n",
    "\n",
    "In order to compute a multi-layer RNN in the future, it is necessary to return not only the final hidden state required for classification but also all hidden states corresponding to the entire input sequence. For detailed instructions, refer to the documentation in the respective file.\n",
    "\n",
    "The following code directly compares the computational results of your module and the PyTorch built-in module `nn.RNN`. L2 norm is used as the loss function to check for backward passes. More details can be found in `module_check.py`."
   ]
  },
  {
   "cell_type": "code",
   "execution_count": 21,
   "metadata": {},
   "outputs": [
    {
     "name": "stdout",
     "output_type": "stream",
     "text": [
      "Model: OneLayerRNN\n",
      "batch_size: 64\n",
      "input_size: 128\n",
      "hidden_size: 128\n",
      "n_seq: 20\n",
      "\n",
      "Forward MSE for output layer\t: 0.00000e+00\n",
      "Forward MSE the last h\t\t: 0.00000e+00\n",
      "Backward MSE\t\t\t: 3.63090e-15\n"
     ]
    }
   ],
   "source": [
    "from HW_YourAnswer_modules import OneLayerRNN\n",
    "from module_check import Info, check_one_layer_rnn\n",
    "\n",
    "# Setting hyperparameters\n",
    "info = Info(device = DEVICE)\n",
    "\n",
    "input_size = info.input_size\n",
    "hidden_size = info.hidden_size\n",
    "\n",
    "\n",
    "# Implemented one-layer RNN(yours)\n",
    "one_layer_rnn = OneLayerRNN(input_size = input_size, hidden_size = hidden_size).to(DEVICE)\n",
    "# RNN from torch.nn\n",
    "target_rnn = nn.RNN(input_size = input_size, hidden_size = hidden_size, batch_first = True).to(DEVICE)\n",
    "\n",
    "# Function for comparison\n",
    "check_one_layer_rnn(one_layer_rnn, target_rnn, info)"
   ]
  },
  {
   "cell_type": "markdown",
   "metadata": {},
   "source": [
    "### Reference: `nn.Sequential`\n",
    "\n",
    "`torch.nn.Sequential` is a container module that allows you to construct neural networks in a sequential manner. It is a convenient way to sequentially organize a series of layers in a neural network. You can pass a list of layers to torch.nn.Sequential, and it will execute them in the order they are passed. Each layer's output serves as the input to the next layer. This sequential arrangement simplifies the code, making it more readable and easier to manage.\n",
    "\n",
    "\n",
    "The following example provides a demonstration to aid in understanding the module."
   ]
  },
  {
   "cell_type": "code",
   "execution_count": 10,
   "metadata": {},
   "outputs": [
    {
     "name": "stdout",
     "output_type": "stream",
     "text": [
      "NaiveNet forward result\t\t: 0.704\n",
      "SequentialNet forward result\t: 0.704\n"
     ]
    }
   ],
   "source": [
    "# MLP w/o nn.Sequential\n",
    "class NaiveNet(nn.Module):\n",
    "    def __init__(self):\n",
    "        super().__init__()\n",
    "        self.linear0 = nn.Linear(2, 2)\n",
    "        self.relu = nn.ReLU()\n",
    "        self.linear1 = nn.Linear(2, 1)\n",
    "    \n",
    "    def forward(self, x):\n",
    "        out = self.linear0(x)\n",
    "        out = self.relu(out)\n",
    "        out = self.linear1(out)\n",
    "        return out\n",
    "\n",
    "# MLP w/ nn.Sequential\n",
    "class SequentialNet(nn.Module):\n",
    "    def __init__(self):\n",
    "        super().__init__()\n",
    "        linear = [nn.Linear(2, 2), nn.Linear(2, 1)]\n",
    "        self.relu = nn.ReLU()\n",
    "        self.linear = nn.Sequential(*linear)\n",
    "\n",
    "    def forward(self, x):\n",
    "        out = self.linear[0](x)\n",
    "        out = self.relu(out)\n",
    "        out = self.linear[1](out)\n",
    "        return out\n",
    "    \n",
    "naive_net = NaiveNet()\n",
    "sequential_net = SequentialNet()\n",
    "\n",
    "# parameter matching\n",
    "for p1, p2 in zip(naive_net.parameters(), sequential_net.parameters()):\n",
    "    p2.data = p1.data\n",
    "\n",
    "x = normal((2,))\n",
    "print(f\"NaiveNet forward result\\t\\t: {naive_net(x).item():.3f}\")\n",
    "print(f\"SequentialNet forward result\\t: {sequential_net(x).item():.3f}\")"
   ]
  },
  {
   "cell_type": "markdown",
   "metadata": {},
   "source": [
    "### 1.1.2. Multi-Layer RNN\n",
    "\n",
    "Next, let's implement a module to perform multi-layer RNN operations based on the `OneLayerRNN` we implemented earlier. A multi-layer RNN takes as input the output hidden states of the previous layer at each layer.\n",
    "\n",
    "$$\n",
    "h_t^{\\ell} = \\text{activation}(W_{ih}^{\\ell}h_t^{\\ell-1} + b_{ih}^{\\ell} + W_{hh}^{\\ell}h_{t-1}^{\\ell} + b_{hh}^{\\ell})\n",
    "$$\n",
    "\n",
    "You may use `nn.Sequential` to define any number of layers you want. If implemented simply via a list, it will not be stored in the module's buffer and may cause problems with device allocation. For other details, see the instruction in the file.\n",
    "\n",
    "### To Do:\n",
    "- Implement `MultiLayerRNN` class in `HW_YourAnswer_modules.py` file.\n",
    "\n",
    "The following code will compare the forward and backward of `nn.RNN` with the module you implemented."
   ]
  },
  {
   "cell_type": "code",
   "execution_count": 18,
   "metadata": {},
   "outputs": [
    {
     "name": "stdout",
     "output_type": "stream",
     "text": [
      "Model: MultiLayerRNN\n",
      "batch_size: 64\n",
      "input_size: 128\n",
      "hidden_size: 128\n",
      "num_layers: 3\n",
      "n_seq: 20\n",
      "\n",
      "Forward MSE for output layer\t: 0.00000e+00\n",
      "Forward MSE the last h\t\t: 0.00000e+00\n",
      "Backward MSE\t\t\t: 3.68443e-13\n"
     ]
    }
   ],
   "source": [
    "from HW_YourAnswer_modules import MultiLayerRNN\n",
    "from module_check import Info, check_multi_layer_rnn\n",
    "\n",
    "# Setting hyperparameters\n",
    "info = Info(device = DEVICE)\n",
    "\n",
    "input_size = info.input_size\n",
    "hidden_size = info.hidden_size\n",
    "num_layers = info.num_layers\n",
    "\n",
    "# Implemented multi-layer RNN(yours)\n",
    "multi_layer_rnn = MultiLayerRNN(input_size = input_size, hidden_size = hidden_size, num_layers = num_layers).to(DEVICE)\n",
    "# RNN from torch.nn\n",
    "target_rnn = nn.RNN(input_size = input_size, hidden_size = hidden_size, num_layers = num_layers, batch_first = True).to(DEVICE)\n",
    "\n",
    "# Function for comparison\n",
    "check_multi_layer_rnn(multi_layer_rnn, target_rnn, info)"
   ]
  },
  {
   "cell_type": "markdown",
   "metadata": {},
   "source": [
    "## 1.2: Long Short-Term Memory(LSTM)\n",
    "\n",
    "Second, let's implement a multi-layer LSTM and compare it to `torch.nn.LSTM`.\n",
    "1. Develop the `OneLayerLSTM` module to represent a single-layer LSTM\n",
    "2. Utilize the `OneLayerLSTM` module implemented in step 1 to construct the `MultiLayerLSTM` module, enabling the computation of a multi-layer LSTM.\n",
    "\n",
    "In this exercise, it is ***strongly*** recommended to refer to [2] for further details.\n",
    "\n",
    "[2] https://pytorch.org/docs/stable/generated/torch.nn.LSTM.html"
   ]
  },
  {
   "cell_type": "markdown",
   "metadata": {},
   "source": [
    "### 1.2.1. One Layer LSTM\n",
    "\n",
    "LSTMs are similar to vanilla RNNs in that they output hidden states, but there are differences in the computation process.\n",
    "\n",
    "$$\n",
    "\\begin{align*}\n",
    "i_t & = \\sigma\\left( W_{ii}x_t + b_{ii} + W_{hi}h_{t-1} + b_{hi} \\right) \\\\\n",
    "f_t & = \\sigma\\left( W_{if}x_t + b_{if} + W_{hf}h_{t-1} + b_{hf} \\right) \\\\\n",
    "g_t & = \\text{tanh}\\left( W_{ig}x_t + b_{ig} + W_{hg}h_{t-1} + b_{hg} \\right) \\\\\n",
    "o_t & = \\sigma\\left( W_{io}x_t + b_{io} + W_{ho}h_{t-1} + b_{ho} \\right) \\\\\n",
    "c_t & = f_t \\odot c_{t-1} + i_t \\odot g_t \\\\\n",
    "h_t & = o_t \\odot \\text{tanh}(c_t)\n",
    "\\end{align*}\n",
    "$$\n",
    "\n",
    "If we use the `nn.Linear` module for each gate, we would need a total of 8 modules. However, ***considering that only two types of inputs are used, $x_t$ and $h_{t-1}$, we can see that the linear projection can be computed in parallel by quadrupling the output dimension of the linear projections and then dividing the outputs by four***. Use this fact to implement a one-layer LSTM.\n",
    "\n",
    "### To Do:\n",
    "- Implement `OneLayerLSTM` class in `HW_YourAnswer_modules.py` file.\n",
    "\n",
    "Similar to the implementation of RNNs, LSTMs require hidden state throughout the sequence to implement later multi-layer versions. See the instruction for additional details. The following code will compare the forward and backward of `nn.LSTM` with the module you implemented."
   ]
  },
  {
   "cell_type": "code",
   "execution_count": 239,
   "metadata": {},
   "outputs": [
    {
     "name": "stdout",
     "output_type": "stream",
     "text": [
      "Model: OneLayerLSTM\n",
      "batch_size: 64\n",
      "input_size: 128\n",
      "hidden_size: 128\n",
      "n_seq: 20\n",
      "\n",
      "Forward MSE for output layer\t: 3.51448e-16\n",
      "Forward MSE the last h\t\t: 3.18767e-16\n",
      "Forward MSE the last c\t\t: 9.65108e-16\n",
      "Backward MSE\t\t\t: 1.52876e-14\n"
     ]
    }
   ],
   "source": [
    "from HW_YourAnswer_modules import OneLayerLSTM\n",
    "from module_check import Info, check_one_layer_lstm\n",
    "\n",
    "# Setting hyperparameters\n",
    "info = Info(device = DEVICE)\n",
    "\n",
    "input_size = info.input_size\n",
    "hidden_size = info.hidden_size\n",
    "\n",
    "# Implemented one-layer LSTM(yours)\n",
    "one_layer_lstm = OneLayerLSTM(input_size = input_size, hidden_size = hidden_size).to(DEVICE)\n",
    "# LSTM from torch.nn\n",
    "target_lstm = nn.LSTM(input_size = input_size, hidden_size = hidden_size, batch_first = True).to(DEVICE)\n",
    "\n",
    "# Function for comparision\n",
    "check_one_layer_lstm(one_layer_lstm, target_lstm, info)"
   ]
  },
  {
   "cell_type": "markdown",
   "metadata": {},
   "source": [
    "### 1.2.2. Multi-Layer LSTM\n",
    "\n",
    "Let's implement a module to perform multi-layer LSTM operations based on the `OneLayerLSTM` you implemented earlier. Similar to RNNs, a multi-layer LSTM takes as input the output hidden states of the previous layer at each layer.\n",
    "\n",
    "### To Do:\n",
    "- Implement `MultiLayerLSTM` class in `HW_YourAnswer_modules.py` file.\n",
    "\n",
    "The following code will compare the forward and backward of `nn.LSTM` with the module you implemented."
   ]
  },
  {
   "cell_type": "code",
   "execution_count": 231,
   "metadata": {},
   "outputs": [
    {
     "name": "stdout",
     "output_type": "stream",
     "text": [
      "Model: MultiLayerLSTM\n",
      "batch_size: 64\n",
      "input_size: 128\n",
      "hidden_size: 128\n",
      "num_layers: 3\n",
      "n_seq: 20\n",
      "\n",
      "Forward MSE for output layer\t: 8.82961e-17\n",
      "Forward MSE the last h\t\t: 1.30734e-16\n",
      "Forward MSE the last c\t\t: 4.09939e-16\n",
      "Backward MSE\t\t\t: 4.76482e-14\n"
     ]
    }
   ],
   "source": [
    "from HW_YourAnswer_modules import MultiLayerLSTM\n",
    "from module_check import Info, check_multi_layer_lstm\n",
    "\n",
    "# Dataset\n",
    "info = Info(device = DEVICE)\n",
    "\n",
    "input_size = info.input_size\n",
    "hidden_size = info.hidden_size\n",
    "num_layers = info.num_layers\n",
    "\n",
    "# Implemented multi-layer LSTM(yours)\n",
    "multi_layer_lstm = MultiLayerLSTM(input_size = input_size, hidden_size = hidden_size, num_layers = num_layers).to(DEVICE)\n",
    "# LSTM from torch.nn\n",
    "target_lstm = nn.LSTM(input_size = input_size, hidden_size = hidden_size, num_layers = num_layers, batch_first = True).to(DEVICE)\n",
    "\n",
    "# Function for comparision\n",
    "check_multi_layer_lstm(multi_layer_lstm, target_lstm, info)"
   ]
  },
  {
   "cell_type": "markdown",
   "metadata": {},
   "source": [
    "## 1.3: Multi-head Attention\n",
    "\n",
    "Next, let's implement a module to perform multi-head attention and compare it to `torch.nn.MultiheadAttention`. To do this, proceed with the following 3 steps\n",
    "1. Define a module that linearly projects the query, key, and value vectors before performing the attention operation.\n",
    "2. Define a function to split the linearly projected query, key, and value into multiple heads\n",
    "3. Define a function to perform scaled dot-product attention based on the results of 1 and 2, and define a forward function.\n",
    "\n",
    "In this exercise, it is ***strongly*** recommended to refer to [3] and [4] for further detail.\n",
    "\n",
    "[3] Vaswani, A., et al, \"Attention is All you Need,\" in *Advances in Neural Information Processing Systems*, 2017.<br>\n",
    "[4] https://pytorch.org/docs/stable/generated/torch.nn.MultiheadAttention.html"
   ]
  },
  {
   "cell_type": "markdown",
   "metadata": {},
   "source": [
    "### 1.3.1. Linear Projections\n",
    "\n",
    "Scaled dot-product attention is computed in vectorized form by the following process.\n",
    "\n",
    "$$\n",
    "\\text{Attention}(Q, K, V) = \\text{softmax}(\\frac{QK^T}{\\sqrt{d_k}})V\n",
    "$$\n",
    "\n",
    "where $d_k$ is the dimension of the linearly projectionquery, key, and value vectors. Using the above expression, we can describe multi-head attention as follows.\n",
    "\n",
    "$$\n",
    "\\begin{align*}\n",
    "\\text{Multihead}(Q, K, V) & = \\text{Concat}(\\text{head}_1, ..., \\text{head}_h)W^O \\\\\n",
    "\\text{where head}_i & = \\text{Attention}(QW_i^Q, KW_i^K, WV_i^V)\n",
    "\\end{align*}\n",
    "$$\n",
    "\n",
    "Based on the above expression, we need (3 * $\\texttt{num\\_heads}$ + 1) linear projections. However, since the projected query and key value required for each head all have the same input, we can simplify the calculation by using only one projection for each and then dividing the result by $\\texttt{num\\_heads}$. Thus, a total of four linear projections are required for multi-head attention. Before we start implementing the attention mechanism, let's define the projection modules.\n",
    "\n",
    "### To Do:\n",
    "- Implement the `__init__` function of the `MultiheadAttention` class inside the `HW_YourAnswer_modules.py` file.\n",
    "\n",
    "You can see what submodules the `MultiheadAttention` module you implemented has in the code block below.\n",
    "\n",
    "Note: The `nn.MultiheadAttention` module which we target uses a trainable bias initialized with a zero vector for both input and output projection. Therefore, there is no need to use the ($\\texttt{bias = False}$) argument when using the `nn.Linear` module.\n",
    "\n",
    "If implemented correctly, the output from running the code block below should look like this.\n",
    "\n",
    "```\n",
    "MultiheadAttention(\n",
    "  (q_proj): Linear(in_features=6, out_features=6, bias=True)\n",
    "  (k_proj): Linear(in_features=3, out_features=6, bias=True)\n",
    "  (v_proj): Linear(in_features=3, out_features=6, bias=True)\n",
    "  (out_proj): Linear(in_features=6, out_features=6, bias=True)\n",
    ")\n",
    "```"
   ]
  },
  {
   "cell_type": "code",
   "execution_count": 2,
   "metadata": {},
   "outputs": [
    {
     "name": "stdout",
     "output_type": "stream",
     "text": [
      "MultiheadAttention(\n",
      "  (q_proj): Linear(in_features=6, out_features=6, bias=True)\n",
      "  (k_proj): Linear(in_features=3, out_features=6, bias=True)\n",
      "  (v_proj): Linear(in_features=3, out_features=6, bias=True)\n",
      "  (out_proj): Linear(in_features=6, out_features=6, bias=True)\n",
      ")\n"
     ]
    }
   ],
   "source": [
    "from HW_YourAnswer_modules import MultiheadAttention\n",
    "from module_check import Info\n",
    "\n",
    "# Setting hyperparameters\n",
    "info = Info(\n",
    "    device = DEVICE,\n",
    "    batch_size = 1,\n",
    "    n_seq = 2,\n",
    "    embed_dim = 6,\n",
    "    num_heads = 3,\n",
    "    kdim = 3,\n",
    "    vdim = 3\n",
    ")\n",
    "\n",
    "embed_dim = info.embed_dim\n",
    "num_heads = info.num_heads\n",
    "kdim = info.kdim\n",
    "vdim = info.vdim\n",
    "\n",
    "# Initialized multi-head attention module(yours)\n",
    "my_attention = MultiheadAttention(\n",
    "    embed_dim = embed_dim,\n",
    "    num_heads = num_heads,\n",
    "    kdim = kdim,\n",
    "    vdim = vdim\n",
    "    ).to(DEVICE)\n",
    "\n",
    "print(my_attention)"
   ]
  },
  {
   "cell_type": "markdown",
   "metadata": {},
   "source": [
    "### 1.3.2. Head Splitting\n",
    "\n",
    "In order to perform Attention in a multi-head manner, we need to divide the input query, key, and value by the number of heads. To put this in terms of tensor size, a tensor with the shape $\\texttt{(batch\\_size, n\\_seq, embed\\_dim)}$ should be replaced with $\\texttt{(batch\\_size, num\\_heads, n\\_seq, embed\\_dim // num\\_heads)}$. The position of each dimension is to simplify the attention process later on.\n",
    "\n",
    "### To Do:\n",
    "- Implement the `split_heads` function of the `MultiheadAttention` class inside the `HW_YourAnswer_modules.py` file.\n",
    "\n",
    "Suppose the arguments required for execution are defined as follows:\n",
    "```\n",
    "batch_size = 1\n",
    "n_seq = 2\n",
    "embed_dim = 6\n",
    "num_heads = 3\n",
    "```\n",
    "If implemented correctly, the output from running the code block below should look like this\n",
    "\n",
    "```\n",
    "Original Tensor\n",
    "shape: torch.Size([1, 2, 6])\n",
    "[[[ 0  1  2  3  4  5]\n",
    "  [ 6  7  8  9 10 11]]]\n",
    "\n",
    "Splitted Tensor\n",
    "shape: torch.Size([1, 3, 2, 2])\n",
    "[[[[ 0  1]\n",
    "   [ 6  7]]\n",
    "\n",
    "  [[ 2  3]\n",
    "   [ 8  9]]\n",
    "\n",
    "  [[ 4  5]\n",
    "   [10 11]]]]\n",
    "```\n",
    "\n",
    "In the result above, you can see that the embedding vector, corresponding to the third dimension of the original tensor, is divided into thirds."
   ]
  },
  {
   "cell_type": "code",
   "execution_count": 3,
   "metadata": {},
   "outputs": [
    {
     "name": "stdout",
     "output_type": "stream",
     "text": [
      "Original Tensor\n",
      "shape: torch.Size([1, 2, 6])\n",
      "[[[ 0  1  2  3  4  5]\n",
      "  [ 6  7  8  9 10 11]]]\n",
      "\n",
      "Splitted Tensor\n",
      "shape: torch.Size([1, 3, 2, 2])\n",
      "[[[[ 0  1]\n",
      "   [ 6  7]]\n",
      "\n",
      "  [[ 2  3]\n",
      "   [ 8  9]]\n",
      "\n",
      "  [[ 4  5]\n",
      "   [10 11]]]]\n"
     ]
    }
   ],
   "source": [
    "from utils import tensor_print\n",
    "\n",
    "# You can change the hyperparameters to check your results; default is (1, 2, 6, 3)\n",
    "batch_size = 1\n",
    "n_seq = 2\n",
    "embed_dim = 6\n",
    "num_heads = 3\n",
    "\n",
    "my_attention = MultiheadAttention(\n",
    "    embed_dim = embed_dim,\n",
    "    num_heads = num_heads,\n",
    "    kdim = kdim,\n",
    "    vdim = vdim\n",
    "    ).to(DEVICE)\n",
    "\n",
    "x = torch.arange(batch_size * n_seq * embed_dim).reshape((batch_size, n_seq, embed_dim)).to(DEVICE)\n",
    "\n",
    "print(\"Original Tensor\")\n",
    "tensor_print(x)\n",
    "print()\n",
    "\n",
    "print(\"Splitted Tensor\")\n",
    "tensor_print(my_attention.split_heads(x))"
   ]
  },
  {
   "cell_type": "markdown",
   "metadata": {},
   "source": [
    "### Reference: `torch.Tensor.masked_fill`\n",
    "\n",
    "`Tensor.masked_fill` is a method that allows you to fill elements of a tensor with a specified value based on a provided mask. This method is useful for selectively updating values in a tensor according to a condition specified by the mask.\n",
    "\n",
    "The following code block is an example of how `Tensor.masked_fill` can be utilized."
   ]
  },
  {
   "cell_type": "code",
   "execution_count": 4,
   "metadata": {},
   "outputs": [
    {
     "name": "stdout",
     "output_type": "stream",
     "text": [
      "Original Tensor:\n",
      "tensor([[1, 2, 3],\n",
      "        [4, 5, 6],\n",
      "        [7, 8, 9]])\n",
      "\n",
      "Mask:\n",
      "tensor([[ True, False,  True],\n",
      "        [False,  True, False],\n",
      "        [ True, False,  True]])\n",
      "\n",
      "Result after masked_fill:\n",
      "tensor([[-1,  2, -1],\n",
      "        [ 4, -1,  6],\n",
      "        [-1,  8, -1]])\n"
     ]
    }
   ],
   "source": [
    "# Create a sample tensor\n",
    "tensor = torch.tensor([[1, 2, 3], [4, 5, 6], [7, 8, 9]])\n",
    "\n",
    "# Define a mask with the same shape as the tensor\n",
    "mask = torch.tensor([[True, False, True], [False, True, False], [True, False, True]])\n",
    "\n",
    "# Use masked_fill to replace values where the mask is True with a specified value, e.g., -1\n",
    "result = tensor.masked_fill(mask = mask, value = -1)\n",
    "\n",
    "print(\"Original Tensor:\")\n",
    "print(tensor)\n",
    "print(\"\\nMask:\")\n",
    "print(mask)\n",
    "print(\"\\nResult after masked_fill:\")\n",
    "print(result)"
   ]
  },
  {
   "cell_type": "markdown",
   "metadata": {},
   "source": [
    "### 1.3.3. Scaled Dot-Product Attention\n",
    "\n",
    "Now let's complete the module by implementing scaled dot-product attention. The overall procedures can be calculated using the formula provided below.\n",
    "\n",
    "$$\n",
    "\\begin{align*}\n",
    "\\text{Attention}(Q, K, V) & = \\text{softmax}(\\frac{QK^T}{\\sqrt{d_k}})V \\\\\n",
    "\\text{Multihead}(Q, K, V) & = \\text{Concat}(\\text{head}_1, ..., \\text{head}_h)W^O \\\\\n",
    "\\text{where head}_i & = \\text{Attention}(QW_i^Q, KW_i^K, WV_i^V)\n",
    "\\end{align*}\n",
    "$$ \n",
    "\n",
    "### To Do:\n",
    "- Implement the `scaled_dot_product_attention` function of the `MultiheadAttention` class inside the `HW_YourAnswer_modules.py` file.\n",
    "- Implement the `forward` function of the `MultiheadAttention` class inside the `HW_YourAnswer_modules.py` file.\n",
    "\n",
    "The important thing is to put masking on the padding token before computing the distribution via attention score. ***Masking of the attention score can be accomplished by substituting a very small number (e.g. -1e9) in the position corresponding to the padding token***. For this purpose, it is convenient to use the `Tensor.masked_fill` method. For more details about masking, see the references and instructions in the file.\n",
    "\n",
    "The following code will compare the forward and backward of `nn.MultiheadAttention` with the module you implemented."
   ]
  },
  {
   "cell_type": "code",
   "execution_count": 274,
   "metadata": {},
   "outputs": [
    {
     "name": "stdout",
     "output_type": "stream",
     "text": [
      "Model: MultiheadAttention\n",
      "batch_size: 64\n",
      "n_seq: 20\n",
      "n_key: 10\n",
      "embed_dim: 128\n",
      "kdim: 64\n",
      "vdim: 64\n",
      "num_heads: 8\n",
      "\n",
      "Forward MSE for the output: 0.00000e+00\n",
      "Forward MSE for the attention weights: 0.00000e+00\n",
      "Backward MSE: 1.90970e-14\n"
     ]
    }
   ],
   "source": [
    "from module_check import Info, check_multi_head_attention\n",
    "\n",
    "# Setting hyperparameters\n",
    "info = Info(device = DEVICE)\n",
    "\n",
    "embed_dim = info.embed_dim\n",
    "num_heads = info.num_heads\n",
    "kdim = info.kdim\n",
    "vdim = info.vdim\n",
    "\n",
    "# Implemented multi-head attention(yours)\n",
    "my_attention = MultiheadAttention(embed_dim = embed_dim,\n",
    "                                  num_heads = num_heads,\n",
    "                                  kdim = kdim,\n",
    "                                  vdim = vdim).to(DEVICE)\n",
    "# Multi-head attention from torch.nn\n",
    "target_attention = nn.MultiheadAttention(embed_dim = embed_dim,\n",
    "                                         num_heads = num_heads,\n",
    "                                         kdim = kdim,\n",
    "                                         vdim = vdim,\n",
    "                                         batch_first = True).to(DEVICE)\n",
    "\n",
    "# Function for comparison\n",
    "check_multi_head_attention(my_attention, target_attention, info)"
   ]
  },
  {
   "cell_type": "markdown",
   "metadata": {},
   "source": [
    "# Exercise 2: Sentiment Analysis of IMDb Movie Reviews\n",
    "\n",
    "In the second exercise, you will use the deep neural networks you implemented earlier to analyze the sentiment of text data."
   ]
  },
  {
   "cell_type": "markdown",
   "metadata": {},
   "source": [
    "## 2.1. Data Processing and nn.Embedding\n",
    "\n",
    "Let's start by fetching the data and then processing it. For the textual data, we use the Large Movie Review Dataset [5]. The Large Movie Review Dataset is a dataset consisting of 50,000 movie reviews from IMDb, a movie information site in the United States, each labeled with a positive or negative label to train a machine on the task of determining whether the sentiment in a sentence is positive or negative.\n",
    "\n",
    "\n",
    "\n",
    "[5] Maas, A., et al, \"Learning Word Vectors for Sentiment Analysis,\" in *Proceedings of the 49th Annual Meeting of the Association for Computational Linguistics: Human Language Technologies*, 2011, pp. 142–150."
   ]
  },
  {
   "cell_type": "markdown",
   "metadata": {},
   "source": [
    "### 2.1.1. Data Loading\n",
    "\n",
    "Let's download the data first. It may take a while."
   ]
  },
  {
   "cell_type": "code",
   "execution_count": 275,
   "metadata": {},
   "outputs": [
    {
     "name": "stdout",
     "output_type": "stream",
     "text": [
      "--2023-11-29 18:26:49--  http://ai.stanford.edu/~amaas/data/sentiment/aclImdb_v1.tar.gz\n",
      "Resolving ai.stanford.edu (ai.stanford.edu)... 171.64.68.10\n",
      "Connecting to ai.stanford.edu (ai.stanford.edu)|171.64.68.10|:80... connected.\n",
      "HTTP request sent, awaiting response... 200 OK\n",
      "Length: 84125825 (80M) [application/x-gzip]\n",
      "Saving to: ‘aclImdb_v1.tar.gz’\n",
      "\n",
      "aclImdb_v1.tar.gz   100%[===================>]  80.23M  1.73MB/s    in 77s     \n",
      "\n",
      "2023-11-29 18:28:06 (1.04 MB/s) - ‘aclImdb_v1.tar.gz’ saved [84125825/84125825]\n",
      "\n"
     ]
    }
   ],
   "source": [
    "# Download data\n",
    "!wget http://ai.stanford.edu/~amaas/data/sentiment/aclImdb_v1.tar.gz\n",
    "!tar -zxf ./aclImdb_v1.tar.gz"
   ]
  },
  {
   "cell_type": "markdown",
   "metadata": {},
   "source": [
    "You can see samples of the downloaded data in the code below."
   ]
  },
  {
   "cell_type": "code",
   "execution_count": 276,
   "metadata": {},
   "outputs": [
    {
     "name": "stdout",
     "output_type": "stream",
     "text": [
      "1. Positive review example\n",
      "####################################################################################################\n",
      "While rehearing Carmen of Bizet, the middle-aged choreographer Antonio (Antonio Gades) brings the se\n",
      "xy Carmen (Laura del Sol) to perform the lead role. Antonio falls in love for Carmen, who is an inde\n",
      "pendent and seductive woman incapable to accept a possessive love. When Carmen has an affair with an\n",
      "other dancer, Antonio is consumed by his jealousy like D. José in the original opera, entwining fict\n",
      "ion with reality.\n",
      "\n",
      "\"Carmen\" is another great movie of Carlos Saura's trilogy dedicated to the Flamenco dance. The drama\n",
      "tic love story is developed with the lives of the artists entwined with the characters they are rehe\n",
      "arsing, and many times is not absolutely clear whether what is happening is reality (with the dancer\n",
      "s) or fiction (of the play). Paco de Lucia is another attraction of this original version of the fam\n",
      "ous Bizet's opera, which is based on the novel of Prosper Mérimée. My vote is seven.\n",
      "\n",
      "Title (Brazil): \"Carmen\"\n",
      "####################################################################################################\n",
      "\n",
      "2. Negative review example\n",
      "####################################################################################################\n",
      "This documentary is a reenactment of the last few years of Betty Page's(Paige Richards) career. The \n",
      "Tennessee tease was the most recognizable pin-up queen in history. Her most memorable work came in t\n",
      "he 1950's and was fetish photos, bondage and cat-fight \"girly flicks\". Irving Klaw(Dukey Flyswatter)\n",
      "at his Movie Star News instructed Betty on what to do in front of the camera. There was no nudity in\n",
      " the famous photos or \"stag films\", but nonetheless, Klaw was charged with distributing obscene mate\n",
      "rials and was ordered to destroy them to avoid prosecution. It is no surprise that Betty had a cult \n",
      "following at the height of her career. The girl-next-door with jet black hair, blue eyes and an hour\n",
      " glass figure dressed in fetish gear or not would mesmerize for decades. After all, it has been said\n",
      " that she was photographed more than Marilyn Monroe and second only to the most photographed image i\n",
      "n the world, Elvis Presley. Betty Page would disappear and devote her last years to religion. This m\n",
      "ovie actually could have been a lot better; but good enough to hold interest.\n",
      "\n",
      "Miss Richards is stunning in her own right. Bra, panties, garter belt and hose do not hurt her image\n",
      " in the least. Also in the cast: Jaimie Henkin, Jana Strain, Emily Marilyn and Julie Simone. Be advi\n",
      "sed this movie can change your heart rate.\n",
      "####################################################################################################\n",
      "\n"
     ]
    }
   ],
   "source": [
    "import numpy as np\n",
    "from imdb import Imdb\n",
    "\n",
    "from train import train\n",
    "from utils import review_print, model_print, predict\n",
    "\n",
    "# Dataset\n",
    "imdb = Imdb()\n",
    "vocabs = imdb.vocabs\n",
    "num_tokens = imdb.num_tokens\n",
    "pos_text = imdb.pos_text\n",
    "neg_text = imdb.neg_text\n",
    "\n",
    "# Reviews\n",
    "rand_idx = np.random.randint(num_tokens)\n",
    "print(\"1. Positive review example\")\n",
    "review_print(pos_text[rand_idx])\n",
    "print(\"2. Negative review example\")\n",
    "review_print(neg_text[rand_idx])"
   ]
  },
  {
   "cell_type": "markdown",
   "metadata": {},
   "source": [
    "### 2.1.2. Text Processing and nn.Embedding\n",
    "\n",
    "Before text data can be used to train a neural network, several steps of preprocessing are required.\n",
    "\n",
    "1. Create a dictionary that assigns a token to each word.\n",
    "2. Make a list of each word in the given text.\n",
    "3. Assign a token to each word.\n",
    "4. Assign an embedding to each token.\n",
    "\n",
    "The IMDb dataset provides a ranking of the frequency of each word, so the dictionary is based on that file. If we process the data in this way, $\\texttt{batch\\_size}$ text data will be transformed into $\\texttt{(batch\\_size, n\\_seq, embeding\\_dim)}$.\n",
    "\n",
    "### Reference: `torch.nn.Embedding`\n",
    "`torch.nn.Embedding` is a module that allows you to create an embedding layer for representing discrete tokens as continuous vectors. This layer is often used in natural language processing tasks where words or tokens need to be converted into dense vectors for input to a neural network.\n",
    "\n",
    "The embedding layer is initialized with the vocabulary size (num_embeddings) and the dimensionality of the embedding vectors (embedding_dim). During the forward pass, this layer takes integer-encoded input indices and returns their corresponding dense vector representations.\n",
    "\n",
    "The following example demonstrates the initialization and usage of the nn.Embedding layer, with IMDb dataset."
   ]
  },
  {
   "cell_type": "code",
   "execution_count": 281,
   "metadata": {},
   "outputs": [
    {
     "name": "stdout",
     "output_type": "stream",
     "text": [
      "1. Raw text\t\t: This is a testing sentence for HW3!\n",
      "2. After preprocessing\t: ['this', 'is', 'a', 'testing', 'sentence', 'for', 'hw3', '!'] (length 8)\n",
      "3. After tokenization\t: [2, 13, 9, 6, 7619, 4232, 17, 1, 31, 3] (length 10)\n",
      "4. After Embedding\t:\n",
      "[[ 0.3477485   0.0954706   0.72874254]\n",
      " [ 0.35365325  1.0004146   0.6053533 ]\n",
      " [-0.4440546   0.05737263 -0.38004556]\n",
      " [-0.00223519 -0.08045699 -0.88316053]\n",
      " [-0.12144136 -0.69452184  0.61660904]\n",
      " [-0.59110355  1.6351695  -0.54890543]\n",
      " [-1.4244665  -1.1882875   0.03491776]\n",
      " [ 0.1069      0.7165252  -1.5920839 ]\n",
      " [-0.06048542 -0.09256128 -0.44705513]\n",
      " [ 0.98898363 -0.5523288   0.1347568 ]] (shape (10, 3))\n"
     ]
    }
   ],
   "source": [
    "import torch\n",
    "from torch import nn\n",
    "\n",
    "from imdb import preprocessing\n",
    "\n",
    "embedding_dim = 3\n",
    "embedding = nn.Embedding(num_tokens, embedding_dim)\n",
    "\n",
    "# Text preprecessing and the tokenizer\n",
    "tokenizer = imdb.tokenizer\n",
    "# You can input your own test textual data if interested\n",
    "test = \"This is a testing sentence for HW3!\"\n",
    "\n",
    "print(\"1. Raw text\\t\\t:\", test)\n",
    "print(\"2. After preprocessing\\t:\", preprocessing(test), f\"(length {len(preprocessing(test))})\")\n",
    "print(\"3. After tokenization\\t:\", tokenizer(test), f\"(length {len(tokenizer(test))})\")\n",
    "embedded = embedding(torch.tensor(tokenizer(test), dtype = torch.int32))\n",
    "print(\"4. After Embedding\\t:\")\n",
    "print(embedded.detach().numpy(), f\"(shape {tuple(embedded.shape)})\")"
   ]
  },
  {
   "cell_type": "markdown",
   "metadata": {},
   "source": [
    "## 2.2: RNN Encoder\n",
    "\n",
    "Now let's create an encoder using the RNN modules. The most naive encoder structure is to view the last hidden state as a latent vector containing information about the sentence. For this assignment, ***we will build one that applies a binary linear classifier to the last hidden state***. See the instructions in the file for details.\n",
    "\n",
    "### To Do:\n",
    "- Implement `RNNEncoder` class in `HW_YourAnswer_encoders.py` file.\n",
    "- Use `torch.nn.RNN` module to implement the RNN layers\n",
    "\n",
    "Using your own implementation of `MultiLayerRNN` would be a good exercise. However, unlike the `torch.nn` module, your `MultiLayerRNN` does not have any acceleration techniques and will take a very long time to train. Therefore, ***we recommends using the*** `nn.RNN` ***module to implement*** `RNNEncoder`.\n",
    "\n",
    "If implemented correctly, `MultiLayerRNN` and `nn.RNN` perform the same operations and produce the same output. However, one caveat is that when using `nn.RNN`, you must force $\\texttt{batch\\_first = True}$ as an argument. This argument means that the first dimension of the input data corresponds to the batch index.\n",
    "\n",
    "The next block of code is intended to verify that the implementation is correct by overfitting the model using only 8 data points. Your test accuracy should be 1.00, as the model was trained only on a small dataset."
   ]
  },
  {
   "cell_type": "code",
   "execution_count": 293,
   "metadata": {},
   "outputs": [
    {
     "name": "stdout",
     "output_type": "stream",
     "text": [
      "\n",
      "Test loss:  0.0000| Test accuracy:  1.00\n",
      "\n"
     ]
    },
    {
     "data": {
      "image/png": "[encoded data removed]",
      "text/plain": [
       "<Figure size 800x300 with 2 Axes>"
      ]
     },
     "metadata": {},
     "output_type": "display_data"
    }
   ],
   "source": [
    "from HW_YourAnswer_encoders import RNNEncoder\n",
    "\n",
    "# Small dataloader from IMDb dataset; it consists of 20 text data\n",
    "loaders = imdb.make_small_loaders()\n",
    "\n",
    "# Hyperparameters\n",
    "embedding_dim, hidden_dim = 256, 256\n",
    "\n",
    "# Implemented RNN encoder(yours)\n",
    "rnn = RNNEncoder(num_tokens = num_tokens,\n",
    "                 embedding_dim = embedding_dim,\n",
    "                 hidden_dim = hidden_dim, \n",
    "                 num_layers = 3).to(DEVICE)\n",
    "\n",
    "# Function for training\n",
    "train(rnn, loaders, epochs = 20, lr = 1e-3, small_loader = True)"
   ]
  },
  {
   "cell_type": "markdown",
   "metadata": {},
   "source": [
    "Once you've completed your sanity check, it's time to try training on full data. If implemented correctly, you should be able to achieve a test accuracy of around 0.7.\n",
    "\n",
    "### To Do:\n",
    "- Train your `RNNEncoder` model and report the test accuracy.\n",
    "\n",
    "You can also see the prediction results of your model."
   ]
  },
  {
   "cell_type": "code",
   "execution_count": null,
   "metadata": {},
   "outputs": [],
   "source": [
    "# Full dataloader\n",
    "loaders = imdb.make_loaders(batch_size = 128)\n",
    "\n",
    "train(rnn, loaders, epochs = 10, lr = 5e-5)\n",
    "\n",
    "model_print(rnn, pos_text, neg_text, tokenizer)"
   ]
  },
  {
   "cell_type": "markdown",
   "metadata": {},
   "source": [
    "Try inserting your own text to see the prediction results if you are interested."
   ]
  },
  {
   "cell_type": "code",
   "execution_count": null,
   "metadata": {},
   "outputs": [],
   "source": [
    "text = \"I love this movie\"\n",
    "label = 1\n",
    "predict(rnn, text, label, tokenizer)"
   ]
  },
  {
   "cell_type": "markdown",
   "metadata": {},
   "source": [
    "## 2.3: LSTM Encoder\n",
    "\n",
    "Next, let's create an encoder using an LSTM. Again, using your `MultiLayerLSTM` will require a very long training time, so we recommend using the `nn.LSTM` module. The same as in RNN, you need to force the $\\texttt{batch\\_first}$ argument to $\\texttt{True}$.\n",
    "\n",
    "### To Do:\n",
    "- Implement `LSTMEncoder` class in `HW_YourAnswer_encoders.py` file.\n",
    "\n",
    "The next block of code is intended to verify that the implementation is correct by overfitting the model using only 8 data points. Similarly, the test accuracy should be 1.00."
   ]
  },
  {
   "cell_type": "code",
   "execution_count": null,
   "metadata": {},
   "outputs": [],
   "source": [
    "from HW_YourAnswer_encoders import LSTMEncoder\n",
    "\n",
    "# Small dataloader from IMDb dataset; it consists of 20 text data\n",
    "loaders = imdb.make_small_loaders()\n",
    "\n",
    "embedding_dim, hidden_dim = 256, 256\n",
    "\n",
    "# Implemented LSTM encoder(yours)\n",
    "lstm = LSTMEncoder(num_tokens = num_tokens,\n",
    "                 embedding_dim = embedding_dim,\n",
    "                 hidden_dim = hidden_dim, \n",
    "                 num_layers = 3)\n",
    "\n",
    "# Function for training\n",
    "train(lstm, loaders, epochs = 20, lr = 5e-3, small_loader = True)"
   ]
  },
  {
   "cell_type": "markdown",
   "metadata": {},
   "source": [
    "Try training your `LSTMEncoder` model on full data. If implemented correctly, you should be able to achieve a test accuracy of around 0.8.\n",
    "\n",
    "### To Do:\n",
    "- Train your `LSTMEncoder` model and report the test accuracy.\n",
    "\n",
    "You can also see the prediction results of your model."
   ]
  },
  {
   "cell_type": "code",
   "execution_count": null,
   "metadata": {},
   "outputs": [],
   "source": [
    "loaders = imdb.make_loaders(batch_size = 128)\n",
    "train(lstm, loaders, epochs = 10, lr = 1e-4)\n",
    "\n",
    "model_print(lstm, pos_text, neg_text, tokenizer)"
   ]
  },
  {
   "cell_type": "markdown",
   "metadata": {},
   "source": [
    "Try inserting your own text to see the prediction results if you are interested."
   ]
  },
  {
   "cell_type": "code",
   "execution_count": null,
   "metadata": {},
   "outputs": [],
   "source": [
    "text = \"I love this movie\"\n",
    "label = 0\n",
    "predict(lstm, text, label, tokenizer)"
   ]
  },
  {
   "cell_type": "markdown",
   "metadata": {},
   "source": [
    "## 2.4: Transformer Encoder\n",
    "\n",
    "<center><img src=\"https://drive.google.com/uc?export=download&id=1HhPbR5jzc1DG_8z5yba2v71q95ntEKbP\" width=\"30%\"></center>\n",
    "\n",
    "Finally, let's build an encoder using multi-head attention. In [3], several techniques are added to the encoder in addition to multi-head attention to improve performance. These include\n",
    "\n",
    "- Positional Encoding\n",
    "- Layer Normalization (we omit this)\n",
    "- Feed Forward Network\n",
    "\n",
    "The original Transformer architecture includes both encoder and decoder layers, but for the purposes of our challenge, we will only implement the encoder.\n",
    "\n",
    "Again, it is ***strongly*** recommended to refer to [3] for further detail.\n",
    "\n",
    "[3] Vaswani, A., et al, \"Attention is All you Need,\" in *Advances in Neural Information Processing Systems*, 2017."
   ]
  },
  {
   "cell_type": "markdown",
   "metadata": {},
   "source": [
    "### 2.4.1. Feed Forward Network\n",
    "\n",
    "First, let's implement a feed forward network. A feed forward network consists of two fully connected layers.\n",
    "\n",
    "### To Do:\n",
    "- Implement the `FeedForward` class in `HW_YourAnswer_encoders.py`.\n",
    "\n",
    "See the instruction in the file for details."
   ]
  },
  {
   "cell_type": "markdown",
   "metadata": {},
   "source": [
    "### 2.4.2. Positional Encoding\n",
    "\n",
    "In the Transformer architecture, positional encoding is used to provide the model with information about the positions of elements in the input sequence. Unlike RNN, Transformers don't inherently capture sequential order because they process inputs in parallel. Positional encoding helps the model understand the sequential order of the input by injecting positional information into the input embeddings.\n",
    "\n",
    "The positional encoding is added to the input embeddings before feeding them into the Transformer model. It is usually a sine and cosine function of different frequencies, which allows the model to differentiate between different positions in the sequence.\n",
    "\n",
    "Here is the formula for positional encoding:\n",
    "\n",
    "$$\n",
    "\\begin{align*}\n",
    "PE_{(pos, 2i)} & = \\sin (pos / 10000^\\frac{2i}{d_\\text{model}}) \\\\\n",
    "PE_{(pos, 2i+1)} & = \\cos (pos / 10000^\\frac{2i}{d_\\text{model}})\n",
    "\\end{align*}\n",
    "$$\n",
    "\n",
    "### To Do:\n",
    "- Define `pos_enc` inside `TransformerEncoder.__init__` in the `HW_YourAnswer_encoders.py` file.\n",
    "\n",
    "One implementation detail is to ***add the singleton dimension beforehand to broadcast for the batch dimension***. See the instruction in the file for details.\n",
    "\n",
    "If implemented correctly, you should get the following figure when you run the code block below.\n",
    "\n",
    "<center><img src=\"https://drive.google.com/uc?export=download&id=1CtkoEv7RmxlampMX7ukY-P9sAK9q_lkN\" width=\"100%\"></center>\n",
    "\n"
   ]
  },
  {
   "cell_type": "code",
   "execution_count": null,
   "metadata": {},
   "outputs": [],
   "source": [
    "from HW_YourAnswer_encoders import TransformerEncoder\n",
    "from utils import pos_enc_print\n",
    "\n",
    "embedding_dim, hidden_dim = 256, 256\n",
    "\n",
    "# Implemented transformer(yours)\n",
    "transformer = TransformerEncoder(num_tokens = num_tokens,\n",
    "                                 embedding_dim = embedding_dim,\n",
    "                                 hidden_dim = hidden_dim,\n",
    "                                 num_layers = 1).to(\"cuda\")\n",
    "\n",
    "# Positional encoding\n",
    "pos_enc = transformer.pos_enc[0, :101, :].cpu().numpy()\n",
    "\n",
    "pos_enc_print(pos_enc)"
   ]
  },
  {
   "cell_type": "markdown",
   "metadata": {},
   "source": [
    "### 2.4.3. Forward\n",
    "\n",
    "Now we are all set to implement the `TransformerEncoder`.\n",
    "\n",
    "### To Do:\n",
    "- Implement `EncoderBlock` class in `HW_YourAnswer_encoders.py` file.\n",
    "- Implement `TransformerEncoder` class in `HW_YourAnswer_encoders.py` file.\n",
    "\n",
    "The `EncoderBlock` contains one `MultiheadAttention` layer and one `FeedForward` layer. Note that ***you need to do a residual sum after each layer***.\n",
    "\n",
    "The `TransformerEncoder` is not much different from `RNNEncoder` or `LSTMEncoder` except that it uses `EncoderBlock` as a module to handle recurrence. However, there is a major difference in the position of the padding token \\<PAD\\> when configuring the dataloader. In the case of RNN and LSTM, the \\<EOS\\> token that signals the end of the sentence is used as a latent vector, and the \\<PAD\\> token corresponding to padding is concatenated at the beginning of the sentence to fix the position of the \\<EOS\\> token. This is because RNNs and LSTMs can convey sequential information well without positional encoding. Conversely, the Transformer cannot adopt this padding strategy since all tokens are simultaneously processed. Therefore, when implementing `TransformerEncoder`, you should use a \\<SOS\\> token, which indicates the start of the sentence, as a latent vector. This assumes that the padding is concatenated after the sentence."
   ]
  },
  {
   "cell_type": "code",
   "execution_count": null,
   "metadata": {},
   "outputs": [],
   "source": [
    "from HW_YourAnswer_encoders import TransformerEncoder\n",
    "\n",
    "# Small dataloader from the IMDb dataset\n",
    "loaders = imdb.make_small_loaders(pad_first = False)\n",
    "\n",
    "embedding_dim, hidden_dim = 256, 256\n",
    "\n",
    "# Implemented Transformer encoder(yours)\n",
    "transformer = TransformerEncoder(num_tokens = num_tokens,\n",
    "                                 embedding_dim = embedding_dim,\n",
    "                                 hidden_dim = hidden_dim,\n",
    "                                 num_layers = 1).to(\"cuda\")\n",
    "\n",
    "train(transformer, loaders, epochs = 50, lr = 1e-4, use_mask = True, small_loader = True)"
   ]
  },
  {
   "cell_type": "markdown",
   "metadata": {},
   "source": [
    "Try training your `TransformerEncoder` model on full data. If implemented correctly, you should be able to achieve a test accuracy of around 0.8.\n",
    "\n",
    "### To Do:\n",
    "- Train your `TransformerEncoder` model and report the test accuracy.\n",
    "\n",
    "You can also see the prediction results of your model."
   ]
  },
  {
   "cell_type": "code",
   "execution_count": null,
   "metadata": {},
   "outputs": [],
   "source": [
    "loaders = imdb.make_loaders(batch_size = 8, pad_first = False)\n",
    "embedding_dim, hidden_dim = 256, 256\n",
    "\n",
    "transformer = TransformerEncoder(num_tokens = num_tokens,\n",
    "                                 embedding_dim = embedding_dim,\n",
    "                                 hidden_dim = hidden_dim,\n",
    "                                 num_layers = 1)\n",
    "\n",
    "train(transformer, loaders, epochs = 5, lr = 1e-4, use_mask = True)\n",
    "\n",
    "model_print(transformer, pos_text, neg_text, tokenizer)"
   ]
  },
  {
   "cell_type": "markdown",
   "metadata": {},
   "source": [
    "Try inserting your own text to see the prediction results if you are interested."
   ]
  },
  {
   "cell_type": "code",
   "execution_count": null,
   "metadata": {},
   "outputs": [],
   "source": [
    "text = \"I love this movie\"\n",
    "label = 1\n",
    "predict(transformer, text, label, tokenizer)"
   ]
  }
 ],
 "metadata": {
  "kernelspec": {
   "display_name": "Python 3 (ipykernel)",
   "language": "python",
   "name": "python3"
  },
  "language_info": {
   "codemirror_mode": {
    "name": "ipython",
    "version": 3
   },
   "file_extension": ".py",
   "mimetype": "text/x-python",
   "name": "python",
   "nbconvert_exporter": "python",
   "pygments_lexer": "ipython3",
   "version": "3.11.4"
  }
 },
 "nbformat": 4,
 "nbformat_minor": 2
}
